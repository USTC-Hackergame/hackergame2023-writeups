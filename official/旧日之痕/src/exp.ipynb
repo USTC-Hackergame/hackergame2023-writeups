{
 "cells": [
  {
   "cell_type": "code",
   "execution_count": null,
   "id": "e7f3b8f1-70a5-4673-98f4-e004aace1edf",
   "metadata": {
    "ExecuteTime": {
     "end_time": "2023-10-27T09:04:40.331049Z",
     "start_time": "2023-10-27T09:04:40.092018Z"
    }
   },
   "outputs": [],
   "source": [
    "import binaryninja as bn\n",
    "import monkeyhex, ctypes"
   ]
  },
  {
   "cell_type": "code",
   "execution_count": null,
   "id": "81ccc786",
   "metadata": {
    "ExecuteTime": {
     "end_time": "2023-10-27T09:04:40.344652Z",
     "start_time": "2023-10-27T09:04:40.335550Z"
    }
   },
   "outputs": [],
   "source": [
    "'''\n",
    "#include <cstdint>\n",
    "#include <vector>\n",
    "#include <random>\n",
    "#include <algorithm>\n",
    "\n",
    "extern \"C\"{\n",
    "void rng(uint8_t* buf, int len, uint8_t seed){\n",
    "    std::vector<uint8_t> ubw;\n",
    "    std::mt19937 g(seed);\n",
    "    for(int i = 0; i < len; i++){\n",
    "        ubw.push_back(i);\n",
    "    }\n",
    "    std::shuffle(ubw.begin(), ubw.end(), g);\n",
    "    for(int i = 0; i < len; i++){\n",
    "        buf[i] = ubw[i];\n",
    "    }\n",
    "}\n",
    "}\n",
    "'''\n",
    "lrng=ctypes.CDLL('./librng.so')\n",
    "rng = lrng.rng\n",
    "rng.argtypes = [ctypes.c_char_p, ctypes.c_int, ctypes.c_ubyte]"
   ]
  },
  {
   "cell_type": "code",
   "execution_count": null,
   "id": "1eef415d",
   "metadata": {
    "ExecuteTime": {
     "end_time": "2023-10-27T09:04:40.352845Z",
     "start_time": "2023-10-27T09:04:40.348253Z"
    }
   },
   "outputs": [],
   "source": [
    "buff = ctypes.create_string_buffer(int(192))"
   ]
  },
  {
   "cell_type": "code",
   "execution_count": null,
   "id": "4dd9a4b7",
   "metadata": {
    "ExecuteTime": {
     "end_time": "2023-10-27T09:04:40.805961Z",
     "start_time": "2023-10-27T09:04:40.380723Z"
    }
   },
   "outputs": [],
   "source": [
    "# orig is compiled without applying watermark\n",
    "orig=bn.BinaryViewType['ELF'].open('orig')\n",
    "orig.update_analysis_and_wait()"
   ]
  },
  {
   "cell_type": "code",
   "execution_count": null,
   "id": "dd15fc28",
   "metadata": {
    "ExecuteTime": {
     "end_time": "2023-10-27T09:04:40.945406Z",
     "start_time": "2023-10-27T09:04:40.809733Z"
    }
   },
   "outputs": [],
   "source": [
    "lorig=list(orig.functions)\n",
    "lforig=[lorig[22],lorig[24],lorig[26],lorig[28],lorig[29],lorig[30]]"
   ]
  },
  {
   "cell_type": "code",
   "execution_count": null,
   "id": "88e585cf-4e54-4415-a4ac-4959fb558e85",
   "metadata": {
    "ExecuteTime": {
     "end_time": "2023-10-27T09:04:40.960686Z",
     "start_time": "2023-10-27T09:04:40.949323Z"
    }
   },
   "outputs": [],
   "source": [
    "def bb2depth(head):\n",
    "    depth = 0\n",
    "    currb = [head]\n",
    "    bbdepth = {}\n",
    "\n",
    "    while currb:\n",
    "        # print(depth, currb)\n",
    "        nextb = []\n",
    "        for bb in currb:\n",
    "            if bb.instruction_count == 1:\n",
    "                bb = bb.outgoing_edges[0].target\n",
    "            if bb.start not in bbdepth:\n",
    "                bbdepth[bb.start] = [depth]\n",
    "            else:\n",
    "                if depth not in bbdepth[bb.start]:\n",
    "                    bbdepth[bb.start].append(depth)\n",
    "                continue\n",
    "            for e in bb.outgoing_edges:\n",
    "                nextb.append(e.target)\n",
    "        depth += 1\n",
    "        currb = nextb\n",
    "    return bbdepth\n",
    "\n",
    "def cantor(order):\n",
    "    result = 0\n",
    "    for i in range(1,len(order)-1):\n",
    "        c = 0\n",
    "        for j in range(i,len(order)):\n",
    "            if order[j] < order[i]:\n",
    "                c += 1\n",
    "        result += c\n",
    "        result *= len(order) - i - 1\n",
    "    return result\n",
    "cantor_len = [0,  0,  1,  2,  4,  6,  9,  12, 15, 18, 21, 25,  28,  32,  36,  40,  44, 48, 52, 56, 61, 65, 69, 74, 79, 83, 88, 93, 97, 102, 107, 112, 117, 122, 127]"
   ]
  },
  {
   "cell_type": "code",
   "execution_count": null,
   "id": "b166bb11",
   "metadata": {
    "ExecuteTime": {
     "end_time": "2023-10-27T09:04:41.085524Z",
     "start_time": "2023-10-27T09:04:40.964508Z"
    }
   },
   "outputs": [],
   "source": [
    " b64idx = [\n",
    "    255, 255, 255, 255, 255, 255, 255, 255, 255, 255, 255, 255, 255, 255, 255,\n",
    "    255, 255, 255, 255, 255, 255, 255, 255, 255, 255, 255, 255, 255, 255, 255,\n",
    "    255, 255, 255, 255, 255, 255, 255, 255, 255, 255, 255, 255, 255, 255, 255,\n",
    "    255, 255, 255, 57,  20,  255, 4,   11,  45,  38,  43,  56,  39,  255, 255,\n",
    "    255, 255, 255, 255, 255, 6,   36,  41,  63,  12,  21,  58,  10,  40,  33,\n",
    "    59,  54,  15,  3,   31,  5,   47,  25,  61,  2,   26,  34,  9,   53,  18,\n",
    "    1,   255, 255, 255, 255, 29,  255, 55,  0,   50,  8,   46,  17,  19,  35,\n",
    "    7,   62,  52,  16,  60,  32,  44,  13,  22,  42,  51,  37,  30,  24,  48,\n",
    "    23,  14,  27,  49,  255, 28,  255, 255, 255, 255, 255, 255, 255, 255, 255,\n",
    "    255, 255, 255, 255, 255, 255, 255, 255, 255, 255, 255, 255, 255, 255, 255,\n",
    "    255, 255, 255, 255, 255, 255, 255, 255, 255, 255, 255, 255, 255, 255, 255,\n",
    "    255, 255, 255, 255, 255, 255, 255, 255, 255, 255, 255, 255, 255, 255, 255,\n",
    "    255, 255, 255, 255, 255, 255, 255, 255, 255, 255, 255, 255, 255, 255, 255,\n",
    "    255, 255, 255, 255, 255, 255, 255, 255, 255, 255, 255, 255, 255, 255, 255,\n",
    "    255, 255, 255, 255, 255, 255, 255, 255, 255, 255, 255, 255, 255, 255, 255,\n",
    "    255, 255, 255, 255, 255, 255, 255, 255, 255, 255, 255, 255, 255, 255, 255,\n",
    "    255, 255, 255, 255, 255, 255, 255, 255, 255, 255, 255, 255, 255, 255, 255,\n",
    "    255]"
   ]
  },
  {
   "cell_type": "code",
   "execution_count": null,
   "id": "88179602",
   "metadata": {
    "ExecuteTime": {
     "end_time": "2023-10-27T09:04:41.105384Z",
     "start_time": "2023-10-27T09:04:41.092161Z"
    }
   },
   "outputs": [],
   "source": [
    "answers = open('binaries/results.txt').read().splitlines()"
   ]
  },
  {
   "cell_type": "code",
   "execution_count": null,
   "id": "f84f1e37",
   "metadata": {
    "ExecuteTime": {
     "end_time": "2023-10-27T12:39:54.825416Z",
     "start_time": "2023-10-27T09:07:29.125386Z"
    }
   },
   "outputs": [],
   "source": [
    "secret = []\n",
    "for elf in range(1, 257):\n",
    "    print(elf)\n",
    "    bv=bn.BinaryViewType['ELF'].open(f'{elf}')\n",
    "    bv.update_analysis_and_wait()\n",
    "\n",
    "    l=list(bv.functions)\n",
    "    lf=[l[22],l[24],l[26],l[28],l[29],l[30]]\n",
    "\n",
    "    bindata = ''\n",
    "    remaining = 192\n",
    "    for findex in range(6):\n",
    "        cforig=lforig[findex]\n",
    "        cfborig=sorted(list(filter(lambda bb:bb.instruction_count > 1, cforig.basic_blocks)), key=lambda bb:bb.start)[:35]\n",
    "        cf=lf[findex]\n",
    "        cfb=sorted(list(filter(lambda bb:bb.instruction_count > 1, cf.basic_blocks)), key=lambda bb:bb.start)[:35]\n",
    "\n",
    "        bdepthorig = bb2depth(cfborig[0])\n",
    "        bdepth = bb2depth(cfb[0])\n",
    "\n",
    "        insdict = {'jmp': 1}\n",
    "        currP = 2\n",
    "        for ins in cforig.instructions:\n",
    "            opcode = str(ins[0][0])\n",
    "            if opcode not in insdict:\n",
    "                insdict[opcode] = currP\n",
    "                currP = next_prime(currP)\n",
    "        for bbstart in bdepthorig:\n",
    "            sd = str(bdepthorig[bbstart])\n",
    "            if sd not in insdict:\n",
    "                insdict[sd] = currP\n",
    "                currP = next_prime(currP)\n",
    "        for ins in cf.instructions:\n",
    "            opcode = str(ins[0][0])\n",
    "            if opcode not in insdict:\n",
    "                insdict[opcode] = currP\n",
    "                currP = next_prime(currP)\n",
    "\n",
    "        bbIsorig = [reduce(lambda a,b:a*b, [insdict[str(ins[0][0])] for ins in bb])*insdict[str(bdepthorig[bb.start])] for bb in cfborig]\n",
    "        bbIs = [reduce(lambda a,b:a*b, [insdict[str(ins[0][0])] for ins in bb])*insdict[str(bdepth[bb.start])] for bb in cfb]\n",
    "\n",
    "        gorder = Matrix(QQ,len(bbIsorig),len(bbIsorig))\n",
    "        for i in range(len(bbIsorig)):\n",
    "            g = list(map(lambda x: abs(1-2*reduce(lambda a,b: (0,a[1]+b[1]),factor(2*gcd(bbIs[i], x)))[1]/reduce(lambda a,b: (0,a[1]+b[1]),factor(4*x*bbIs[i]))[1]), bbIsorig))\n",
    "            gorder[i] = vector(g)\n",
    "\n",
    "        order = [-1]*len(bbIsorig)\n",
    "        for _ in range(len(bbIsorig)):\n",
    "            m = list(map(min,gorder))\n",
    "            i = m.index(min(m))\n",
    "            j = list(gorder[i]).index(min(m))\n",
    "            order[i] = j\n",
    "            gorder[i,:] = 100\n",
    "            gorder[:,j] = 100\n",
    "        data = format(cantor(order), f'0{cantor_len[len(order)-1]}b')\n",
    "\n",
    "        if findex == 0:\n",
    "            tlen = int(data[1:6],2)*6+6\n",
    "            remaining = tlen\n",
    "        bindata += data[::-1][:remaining][::-1]\n",
    "        remaining -= cantor_len[len(order)-1]\n",
    "        if remaining <=0 :\n",
    "            break\n",
    "\n",
    "    rng(buff,ctypes.c_int(tlen-6),ctypes.c_ubyte(int(bindata[:6],2)))\n",
    "    order=list(map(int, buff.raw))[:tlen-6]\n",
    "    obdata = ''.join([bindata[6+order.index(i)] for i in range(tlen-6)])\n",
    "    secret = ''.join([chr(b64idx.index(int(obdata[i*6:i*6+6], 2))) for i in range((tlen-6)//6)])\n",
    "    print(secret == answers[elf-1])"
   ]
  },
  {
   "cell_type": "code",
   "execution_count": null,
   "id": "2cf1d8d8",
   "metadata": {},
   "outputs": [],
   "source": []
  }
 ],
 "metadata": {
  "kernelspec": {
   "display_name": "Python 3 (ipykernel)",
   "language": "python",
   "name": "python3"
  },
  "language_info": {
   "codemirror_mode": {
    "name": "ipython",
    "version": 3
   },
   "file_extension": ".py",
   "mimetype": "text/x-python",
   "name": "python",
   "nbconvert_exporter": "python",
   "pygments_lexer": "ipython3",
   "version": "3.11.6"
  }
 },
 "nbformat": 4,
 "nbformat_minor": 5
}
